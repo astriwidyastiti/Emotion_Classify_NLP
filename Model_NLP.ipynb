{
  "nbformat": 4,
  "nbformat_minor": 0,
  "metadata": {
    "colab": {
      "provenance": []
    },
    "kernelspec": {
      "name": "python3",
      "display_name": "Python 3"
    },
    "language_info": {
      "name": "python"
    }
  },
  "cells": [
    {
      "cell_type": "markdown",
      "source": [
        "**Membuat Model NLP menggunakan Tensorflow**\n",
        "\n",
        "Nama : Astri Widyastiti\n",
        "\n",
        "Id Dicoding : astriwidyastiti\n",
        "\n",
        "Email : astriwidyastiti@gmail.com"
      ],
      "metadata": {
        "id": "uMCHBRUONPU9"
      }
    },
    {
      "cell_type": "code",
      "execution_count": 1,
      "metadata": {
        "colab": {
          "base_uri": "https://localhost:8080/"
        },
        "id": "EG25DW2OyCr9",
        "outputId": "2b08a77b-ff7a-40fd-ef3a-c31261f4715e"
      },
      "outputs": [
        {
          "output_type": "stream",
          "name": "stdout",
          "text": [
            "Mounted at /content/drive\n"
          ]
        }
      ],
      "source": [
        "from google.colab import drive\n",
        "drive.mount('/content/drive')"
      ]
    },
    {
      "cell_type": "markdown",
      "source": [
        "# Import Data"
      ],
      "metadata": {
        "id": "zLLxvP7YLZWc"
      }
    },
    {
      "cell_type": "code",
      "source": [
        "import pandas as pd\n",
        "data=pd.read_csv('/content/drive/MyDrive/Emotion_classify_Data.csv')\n",
        "data.head()"
      ],
      "metadata": {
        "colab": {
          "base_uri": "https://localhost:8080/",
          "height": 206
        },
        "id": "T3LnR9wJzb9p",
        "outputId": "3166d1cd-82d7-413b-e6b1-b976a028eeed"
      },
      "execution_count": 2,
      "outputs": [
        {
          "output_type": "execute_result",
          "data": {
            "text/plain": [
              "                                             Comment Emotion\n",
              "0  i seriously hate one subject to death but now ...    fear\n",
              "1                 im so full of life i feel appalled   anger\n",
              "2  i sit here to write i start to dig out my feel...    fear\n",
              "3  ive been really angry with r and i feel like a...     joy\n",
              "4  i feel suspicious if there is no one outside l...    fear"
            ],
            "text/html": [
              "\n",
              "  <div id=\"df-ceb6c963-d51d-4a06-af93-d5f8fd9ec9ee\" class=\"colab-df-container\">\n",
              "    <div>\n",
              "<style scoped>\n",
              "    .dataframe tbody tr th:only-of-type {\n",
              "        vertical-align: middle;\n",
              "    }\n",
              "\n",
              "    .dataframe tbody tr th {\n",
              "        vertical-align: top;\n",
              "    }\n",
              "\n",
              "    .dataframe thead th {\n",
              "        text-align: right;\n",
              "    }\n",
              "</style>\n",
              "<table border=\"1\" class=\"dataframe\">\n",
              "  <thead>\n",
              "    <tr style=\"text-align: right;\">\n",
              "      <th></th>\n",
              "      <th>Comment</th>\n",
              "      <th>Emotion</th>\n",
              "    </tr>\n",
              "  </thead>\n",
              "  <tbody>\n",
              "    <tr>\n",
              "      <th>0</th>\n",
              "      <td>i seriously hate one subject to death but now ...</td>\n",
              "      <td>fear</td>\n",
              "    </tr>\n",
              "    <tr>\n",
              "      <th>1</th>\n",
              "      <td>im so full of life i feel appalled</td>\n",
              "      <td>anger</td>\n",
              "    </tr>\n",
              "    <tr>\n",
              "      <th>2</th>\n",
              "      <td>i sit here to write i start to dig out my feel...</td>\n",
              "      <td>fear</td>\n",
              "    </tr>\n",
              "    <tr>\n",
              "      <th>3</th>\n",
              "      <td>ive been really angry with r and i feel like a...</td>\n",
              "      <td>joy</td>\n",
              "    </tr>\n",
              "    <tr>\n",
              "      <th>4</th>\n",
              "      <td>i feel suspicious if there is no one outside l...</td>\n",
              "      <td>fear</td>\n",
              "    </tr>\n",
              "  </tbody>\n",
              "</table>\n",
              "</div>\n",
              "    <div class=\"colab-df-buttons\">\n",
              "\n",
              "  <div class=\"colab-df-container\">\n",
              "    <button class=\"colab-df-convert\" onclick=\"convertToInteractive('df-ceb6c963-d51d-4a06-af93-d5f8fd9ec9ee')\"\n",
              "            title=\"Convert this dataframe to an interactive table.\"\n",
              "            style=\"display:none;\">\n",
              "\n",
              "  <svg xmlns=\"http://www.w3.org/2000/svg\" height=\"24px\" viewBox=\"0 -960 960 960\">\n",
              "    <path d=\"M120-120v-720h720v720H120Zm60-500h600v-160H180v160Zm220 220h160v-160H400v160Zm0 220h160v-160H400v160ZM180-400h160v-160H180v160Zm440 0h160v-160H620v160ZM180-180h160v-160H180v160Zm440 0h160v-160H620v160Z\"/>\n",
              "  </svg>\n",
              "    </button>\n",
              "\n",
              "  <style>\n",
              "    .colab-df-container {\n",
              "      display:flex;\n",
              "      gap: 12px;\n",
              "    }\n",
              "\n",
              "    .colab-df-convert {\n",
              "      background-color: #E8F0FE;\n",
              "      border: none;\n",
              "      border-radius: 50%;\n",
              "      cursor: pointer;\n",
              "      display: none;\n",
              "      fill: #1967D2;\n",
              "      height: 32px;\n",
              "      padding: 0 0 0 0;\n",
              "      width: 32px;\n",
              "    }\n",
              "\n",
              "    .colab-df-convert:hover {\n",
              "      background-color: #E2EBFA;\n",
              "      box-shadow: 0px 1px 2px rgba(60, 64, 67, 0.3), 0px 1px 3px 1px rgba(60, 64, 67, 0.15);\n",
              "      fill: #174EA6;\n",
              "    }\n",
              "\n",
              "    .colab-df-buttons div {\n",
              "      margin-bottom: 4px;\n",
              "    }\n",
              "\n",
              "    [theme=dark] .colab-df-convert {\n",
              "      background-color: #3B4455;\n",
              "      fill: #D2E3FC;\n",
              "    }\n",
              "\n",
              "    [theme=dark] .colab-df-convert:hover {\n",
              "      background-color: #434B5C;\n",
              "      box-shadow: 0px 1px 3px 1px rgba(0, 0, 0, 0.15);\n",
              "      filter: drop-shadow(0px 1px 2px rgba(0, 0, 0, 0.3));\n",
              "      fill: #FFFFFF;\n",
              "    }\n",
              "  </style>\n",
              "\n",
              "    <script>\n",
              "      const buttonEl =\n",
              "        document.querySelector('#df-ceb6c963-d51d-4a06-af93-d5f8fd9ec9ee button.colab-df-convert');\n",
              "      buttonEl.style.display =\n",
              "        google.colab.kernel.accessAllowed ? 'block' : 'none';\n",
              "\n",
              "      async function convertToInteractive(key) {\n",
              "        const element = document.querySelector('#df-ceb6c963-d51d-4a06-af93-d5f8fd9ec9ee');\n",
              "        const dataTable =\n",
              "          await google.colab.kernel.invokeFunction('convertToInteractive',\n",
              "                                                    [key], {});\n",
              "        if (!dataTable) return;\n",
              "\n",
              "        const docLinkHtml = 'Like what you see? Visit the ' +\n",
              "          '<a target=\"_blank\" href=https://colab.research.google.com/notebooks/data_table.ipynb>data table notebook</a>'\n",
              "          + ' to learn more about interactive tables.';\n",
              "        element.innerHTML = '';\n",
              "        dataTable['output_type'] = 'display_data';\n",
              "        await google.colab.output.renderOutput(dataTable, element);\n",
              "        const docLink = document.createElement('div');\n",
              "        docLink.innerHTML = docLinkHtml;\n",
              "        element.appendChild(docLink);\n",
              "      }\n",
              "    </script>\n",
              "  </div>\n",
              "\n",
              "\n",
              "<div id=\"df-be2aef9b-1975-409d-843f-6fb78190c2b4\">\n",
              "  <button class=\"colab-df-quickchart\" onclick=\"quickchart('df-be2aef9b-1975-409d-843f-6fb78190c2b4')\"\n",
              "            title=\"Suggest charts\"\n",
              "            style=\"display:none;\">\n",
              "\n",
              "<svg xmlns=\"http://www.w3.org/2000/svg\" height=\"24px\"viewBox=\"0 0 24 24\"\n",
              "     width=\"24px\">\n",
              "    <g>\n",
              "        <path d=\"M19 3H5c-1.1 0-2 .9-2 2v14c0 1.1.9 2 2 2h14c1.1 0 2-.9 2-2V5c0-1.1-.9-2-2-2zM9 17H7v-7h2v7zm4 0h-2V7h2v10zm4 0h-2v-4h2v4z\"/>\n",
              "    </g>\n",
              "</svg>\n",
              "  </button>\n",
              "\n",
              "<style>\n",
              "  .colab-df-quickchart {\n",
              "      --bg-color: #E8F0FE;\n",
              "      --fill-color: #1967D2;\n",
              "      --hover-bg-color: #E2EBFA;\n",
              "      --hover-fill-color: #174EA6;\n",
              "      --disabled-fill-color: #AAA;\n",
              "      --disabled-bg-color: #DDD;\n",
              "  }\n",
              "\n",
              "  [theme=dark] .colab-df-quickchart {\n",
              "      --bg-color: #3B4455;\n",
              "      --fill-color: #D2E3FC;\n",
              "      --hover-bg-color: #434B5C;\n",
              "      --hover-fill-color: #FFFFFF;\n",
              "      --disabled-bg-color: #3B4455;\n",
              "      --disabled-fill-color: #666;\n",
              "  }\n",
              "\n",
              "  .colab-df-quickchart {\n",
              "    background-color: var(--bg-color);\n",
              "    border: none;\n",
              "    border-radius: 50%;\n",
              "    cursor: pointer;\n",
              "    display: none;\n",
              "    fill: var(--fill-color);\n",
              "    height: 32px;\n",
              "    padding: 0;\n",
              "    width: 32px;\n",
              "  }\n",
              "\n",
              "  .colab-df-quickchart:hover {\n",
              "    background-color: var(--hover-bg-color);\n",
              "    box-shadow: 0 1px 2px rgba(60, 64, 67, 0.3), 0 1px 3px 1px rgba(60, 64, 67, 0.15);\n",
              "    fill: var(--button-hover-fill-color);\n",
              "  }\n",
              "\n",
              "  .colab-df-quickchart-complete:disabled,\n",
              "  .colab-df-quickchart-complete:disabled:hover {\n",
              "    background-color: var(--disabled-bg-color);\n",
              "    fill: var(--disabled-fill-color);\n",
              "    box-shadow: none;\n",
              "  }\n",
              "\n",
              "  .colab-df-spinner {\n",
              "    border: 2px solid var(--fill-color);\n",
              "    border-color: transparent;\n",
              "    border-bottom-color: var(--fill-color);\n",
              "    animation:\n",
              "      spin 1s steps(1) infinite;\n",
              "  }\n",
              "\n",
              "  @keyframes spin {\n",
              "    0% {\n",
              "      border-color: transparent;\n",
              "      border-bottom-color: var(--fill-color);\n",
              "      border-left-color: var(--fill-color);\n",
              "    }\n",
              "    20% {\n",
              "      border-color: transparent;\n",
              "      border-left-color: var(--fill-color);\n",
              "      border-top-color: var(--fill-color);\n",
              "    }\n",
              "    30% {\n",
              "      border-color: transparent;\n",
              "      border-left-color: var(--fill-color);\n",
              "      border-top-color: var(--fill-color);\n",
              "      border-right-color: var(--fill-color);\n",
              "    }\n",
              "    40% {\n",
              "      border-color: transparent;\n",
              "      border-right-color: var(--fill-color);\n",
              "      border-top-color: var(--fill-color);\n",
              "    }\n",
              "    60% {\n",
              "      border-color: transparent;\n",
              "      border-right-color: var(--fill-color);\n",
              "    }\n",
              "    80% {\n",
              "      border-color: transparent;\n",
              "      border-right-color: var(--fill-color);\n",
              "      border-bottom-color: var(--fill-color);\n",
              "    }\n",
              "    90% {\n",
              "      border-color: transparent;\n",
              "      border-bottom-color: var(--fill-color);\n",
              "    }\n",
              "  }\n",
              "</style>\n",
              "\n",
              "  <script>\n",
              "    async function quickchart(key) {\n",
              "      const quickchartButtonEl =\n",
              "        document.querySelector('#' + key + ' button');\n",
              "      quickchartButtonEl.disabled = true;  // To prevent multiple clicks.\n",
              "      quickchartButtonEl.classList.add('colab-df-spinner');\n",
              "      try {\n",
              "        const charts = await google.colab.kernel.invokeFunction(\n",
              "            'suggestCharts', [key], {});\n",
              "      } catch (error) {\n",
              "        console.error('Error during call to suggestCharts:', error);\n",
              "      }\n",
              "      quickchartButtonEl.classList.remove('colab-df-spinner');\n",
              "      quickchartButtonEl.classList.add('colab-df-quickchart-complete');\n",
              "    }\n",
              "    (() => {\n",
              "      let quickchartButtonEl =\n",
              "        document.querySelector('#df-be2aef9b-1975-409d-843f-6fb78190c2b4 button');\n",
              "      quickchartButtonEl.style.display =\n",
              "        google.colab.kernel.accessAllowed ? 'block' : 'none';\n",
              "    })();\n",
              "  </script>\n",
              "</div>\n",
              "    </div>\n",
              "  </div>\n"
            ]
          },
          "metadata": {},
          "execution_count": 2
        }
      ]
    },
    {
      "cell_type": "code",
      "source": [
        "data.shape"
      ],
      "metadata": {
        "colab": {
          "base_uri": "https://localhost:8080/"
        },
        "id": "F3zuyUej0akp",
        "outputId": "a0515d72-695f-414f-fe89-90b3664c4076"
      },
      "execution_count": 3,
      "outputs": [
        {
          "output_type": "execute_result",
          "data": {
            "text/plain": [
              "(5937, 2)"
            ]
          },
          "metadata": {},
          "execution_count": 3
        }
      ]
    },
    {
      "cell_type": "code",
      "source": [
        "data.info()"
      ],
      "metadata": {
        "colab": {
          "base_uri": "https://localhost:8080/"
        },
        "id": "3DpYC_VF0fzi",
        "outputId": "d8daea8f-1193-40be-e3ea-365c3ed03586"
      },
      "execution_count": 4,
      "outputs": [
        {
          "output_type": "stream",
          "name": "stdout",
          "text": [
            "<class 'pandas.core.frame.DataFrame'>\n",
            "RangeIndex: 5937 entries, 0 to 5936\n",
            "Data columns (total 2 columns):\n",
            " #   Column   Non-Null Count  Dtype \n",
            "---  ------   --------------  ----- \n",
            " 0   Comment  5937 non-null   object\n",
            " 1   Emotion  5937 non-null   object\n",
            "dtypes: object(2)\n",
            "memory usage: 92.9+ KB\n"
          ]
        }
      ]
    },
    {
      "cell_type": "markdown",
      "source": [
        "# Membuat Variabel Dummy"
      ],
      "metadata": {
        "id": "AI0NKbFjLlJa"
      }
    },
    {
      "cell_type": "code",
      "source": [
        "category = pd.get_dummies(data.Emotion)\n",
        "data_baru = pd.concat([data, category], axis=1)\n",
        "data_baru = data_baru.drop(columns='Emotion')\n",
        "data_baru"
      ],
      "metadata": {
        "colab": {
          "base_uri": "https://localhost:8080/",
          "height": 423
        },
        "id": "jkmH5cb70jQW",
        "outputId": "0e9457e2-07a0-4cfd-ec96-a109c9fc8cb5"
      },
      "execution_count": 5,
      "outputs": [
        {
          "output_type": "execute_result",
          "data": {
            "text/plain": [
              "                                                Comment  anger  fear  joy\n",
              "0     i seriously hate one subject to death but now ...      0     1    0\n",
              "1                    im so full of life i feel appalled      1     0    0\n",
              "2     i sit here to write i start to dig out my feel...      0     1    0\n",
              "3     ive been really angry with r and i feel like a...      0     0    1\n",
              "4     i feel suspicious if there is no one outside l...      0     1    0\n",
              "...                                                 ...    ...   ...  ...\n",
              "5932                 i begun to feel distressed for you      0     1    0\n",
              "5933  i left feeling annoyed and angry thinking that...      1     0    0\n",
              "5934  i were to ever get married i d have everything...      0     0    1\n",
              "5935  i feel reluctant in applying there because i w...      0     1    0\n",
              "5936  i just wanted to apologize to you because i fe...      1     0    0\n",
              "\n",
              "[5937 rows x 4 columns]"
            ],
            "text/html": [
              "\n",
              "  <div id=\"df-35c70589-f282-4f11-97db-0cdb500b215d\" class=\"colab-df-container\">\n",
              "    <div>\n",
              "<style scoped>\n",
              "    .dataframe tbody tr th:only-of-type {\n",
              "        vertical-align: middle;\n",
              "    }\n",
              "\n",
              "    .dataframe tbody tr th {\n",
              "        vertical-align: top;\n",
              "    }\n",
              "\n",
              "    .dataframe thead th {\n",
              "        text-align: right;\n",
              "    }\n",
              "</style>\n",
              "<table border=\"1\" class=\"dataframe\">\n",
              "  <thead>\n",
              "    <tr style=\"text-align: right;\">\n",
              "      <th></th>\n",
              "      <th>Comment</th>\n",
              "      <th>anger</th>\n",
              "      <th>fear</th>\n",
              "      <th>joy</th>\n",
              "    </tr>\n",
              "  </thead>\n",
              "  <tbody>\n",
              "    <tr>\n",
              "      <th>0</th>\n",
              "      <td>i seriously hate one subject to death but now ...</td>\n",
              "      <td>0</td>\n",
              "      <td>1</td>\n",
              "      <td>0</td>\n",
              "    </tr>\n",
              "    <tr>\n",
              "      <th>1</th>\n",
              "      <td>im so full of life i feel appalled</td>\n",
              "      <td>1</td>\n",
              "      <td>0</td>\n",
              "      <td>0</td>\n",
              "    </tr>\n",
              "    <tr>\n",
              "      <th>2</th>\n",
              "      <td>i sit here to write i start to dig out my feel...</td>\n",
              "      <td>0</td>\n",
              "      <td>1</td>\n",
              "      <td>0</td>\n",
              "    </tr>\n",
              "    <tr>\n",
              "      <th>3</th>\n",
              "      <td>ive been really angry with r and i feel like a...</td>\n",
              "      <td>0</td>\n",
              "      <td>0</td>\n",
              "      <td>1</td>\n",
              "    </tr>\n",
              "    <tr>\n",
              "      <th>4</th>\n",
              "      <td>i feel suspicious if there is no one outside l...</td>\n",
              "      <td>0</td>\n",
              "      <td>1</td>\n",
              "      <td>0</td>\n",
              "    </tr>\n",
              "    <tr>\n",
              "      <th>...</th>\n",
              "      <td>...</td>\n",
              "      <td>...</td>\n",
              "      <td>...</td>\n",
              "      <td>...</td>\n",
              "    </tr>\n",
              "    <tr>\n",
              "      <th>5932</th>\n",
              "      <td>i begun to feel distressed for you</td>\n",
              "      <td>0</td>\n",
              "      <td>1</td>\n",
              "      <td>0</td>\n",
              "    </tr>\n",
              "    <tr>\n",
              "      <th>5933</th>\n",
              "      <td>i left feeling annoyed and angry thinking that...</td>\n",
              "      <td>1</td>\n",
              "      <td>0</td>\n",
              "      <td>0</td>\n",
              "    </tr>\n",
              "    <tr>\n",
              "      <th>5934</th>\n",
              "      <td>i were to ever get married i d have everything...</td>\n",
              "      <td>0</td>\n",
              "      <td>0</td>\n",
              "      <td>1</td>\n",
              "    </tr>\n",
              "    <tr>\n",
              "      <th>5935</th>\n",
              "      <td>i feel reluctant in applying there because i w...</td>\n",
              "      <td>0</td>\n",
              "      <td>1</td>\n",
              "      <td>0</td>\n",
              "    </tr>\n",
              "    <tr>\n",
              "      <th>5936</th>\n",
              "      <td>i just wanted to apologize to you because i fe...</td>\n",
              "      <td>1</td>\n",
              "      <td>0</td>\n",
              "      <td>0</td>\n",
              "    </tr>\n",
              "  </tbody>\n",
              "</table>\n",
              "<p>5937 rows × 4 columns</p>\n",
              "</div>\n",
              "    <div class=\"colab-df-buttons\">\n",
              "\n",
              "  <div class=\"colab-df-container\">\n",
              "    <button class=\"colab-df-convert\" onclick=\"convertToInteractive('df-35c70589-f282-4f11-97db-0cdb500b215d')\"\n",
              "            title=\"Convert this dataframe to an interactive table.\"\n",
              "            style=\"display:none;\">\n",
              "\n",
              "  <svg xmlns=\"http://www.w3.org/2000/svg\" height=\"24px\" viewBox=\"0 -960 960 960\">\n",
              "    <path d=\"M120-120v-720h720v720H120Zm60-500h600v-160H180v160Zm220 220h160v-160H400v160Zm0 220h160v-160H400v160ZM180-400h160v-160H180v160Zm440 0h160v-160H620v160ZM180-180h160v-160H180v160Zm440 0h160v-160H620v160Z\"/>\n",
              "  </svg>\n",
              "    </button>\n",
              "\n",
              "  <style>\n",
              "    .colab-df-container {\n",
              "      display:flex;\n",
              "      gap: 12px;\n",
              "    }\n",
              "\n",
              "    .colab-df-convert {\n",
              "      background-color: #E8F0FE;\n",
              "      border: none;\n",
              "      border-radius: 50%;\n",
              "      cursor: pointer;\n",
              "      display: none;\n",
              "      fill: #1967D2;\n",
              "      height: 32px;\n",
              "      padding: 0 0 0 0;\n",
              "      width: 32px;\n",
              "    }\n",
              "\n",
              "    .colab-df-convert:hover {\n",
              "      background-color: #E2EBFA;\n",
              "      box-shadow: 0px 1px 2px rgba(60, 64, 67, 0.3), 0px 1px 3px 1px rgba(60, 64, 67, 0.15);\n",
              "      fill: #174EA6;\n",
              "    }\n",
              "\n",
              "    .colab-df-buttons div {\n",
              "      margin-bottom: 4px;\n",
              "    }\n",
              "\n",
              "    [theme=dark] .colab-df-convert {\n",
              "      background-color: #3B4455;\n",
              "      fill: #D2E3FC;\n",
              "    }\n",
              "\n",
              "    [theme=dark] .colab-df-convert:hover {\n",
              "      background-color: #434B5C;\n",
              "      box-shadow: 0px 1px 3px 1px rgba(0, 0, 0, 0.15);\n",
              "      filter: drop-shadow(0px 1px 2px rgba(0, 0, 0, 0.3));\n",
              "      fill: #FFFFFF;\n",
              "    }\n",
              "  </style>\n",
              "\n",
              "    <script>\n",
              "      const buttonEl =\n",
              "        document.querySelector('#df-35c70589-f282-4f11-97db-0cdb500b215d button.colab-df-convert');\n",
              "      buttonEl.style.display =\n",
              "        google.colab.kernel.accessAllowed ? 'block' : 'none';\n",
              "\n",
              "      async function convertToInteractive(key) {\n",
              "        const element = document.querySelector('#df-35c70589-f282-4f11-97db-0cdb500b215d');\n",
              "        const dataTable =\n",
              "          await google.colab.kernel.invokeFunction('convertToInteractive',\n",
              "                                                    [key], {});\n",
              "        if (!dataTable) return;\n",
              "\n",
              "        const docLinkHtml = 'Like what you see? Visit the ' +\n",
              "          '<a target=\"_blank\" href=https://colab.research.google.com/notebooks/data_table.ipynb>data table notebook</a>'\n",
              "          + ' to learn more about interactive tables.';\n",
              "        element.innerHTML = '';\n",
              "        dataTable['output_type'] = 'display_data';\n",
              "        await google.colab.output.renderOutput(dataTable, element);\n",
              "        const docLink = document.createElement('div');\n",
              "        docLink.innerHTML = docLinkHtml;\n",
              "        element.appendChild(docLink);\n",
              "      }\n",
              "    </script>\n",
              "  </div>\n",
              "\n",
              "\n",
              "<div id=\"df-478ef706-53f1-4c2e-810e-684f7a548695\">\n",
              "  <button class=\"colab-df-quickchart\" onclick=\"quickchart('df-478ef706-53f1-4c2e-810e-684f7a548695')\"\n",
              "            title=\"Suggest charts\"\n",
              "            style=\"display:none;\">\n",
              "\n",
              "<svg xmlns=\"http://www.w3.org/2000/svg\" height=\"24px\"viewBox=\"0 0 24 24\"\n",
              "     width=\"24px\">\n",
              "    <g>\n",
              "        <path d=\"M19 3H5c-1.1 0-2 .9-2 2v14c0 1.1.9 2 2 2h14c1.1 0 2-.9 2-2V5c0-1.1-.9-2-2-2zM9 17H7v-7h2v7zm4 0h-2V7h2v10zm4 0h-2v-4h2v4z\"/>\n",
              "    </g>\n",
              "</svg>\n",
              "  </button>\n",
              "\n",
              "<style>\n",
              "  .colab-df-quickchart {\n",
              "      --bg-color: #E8F0FE;\n",
              "      --fill-color: #1967D2;\n",
              "      --hover-bg-color: #E2EBFA;\n",
              "      --hover-fill-color: #174EA6;\n",
              "      --disabled-fill-color: #AAA;\n",
              "      --disabled-bg-color: #DDD;\n",
              "  }\n",
              "\n",
              "  [theme=dark] .colab-df-quickchart {\n",
              "      --bg-color: #3B4455;\n",
              "      --fill-color: #D2E3FC;\n",
              "      --hover-bg-color: #434B5C;\n",
              "      --hover-fill-color: #FFFFFF;\n",
              "      --disabled-bg-color: #3B4455;\n",
              "      --disabled-fill-color: #666;\n",
              "  }\n",
              "\n",
              "  .colab-df-quickchart {\n",
              "    background-color: var(--bg-color);\n",
              "    border: none;\n",
              "    border-radius: 50%;\n",
              "    cursor: pointer;\n",
              "    display: none;\n",
              "    fill: var(--fill-color);\n",
              "    height: 32px;\n",
              "    padding: 0;\n",
              "    width: 32px;\n",
              "  }\n",
              "\n",
              "  .colab-df-quickchart:hover {\n",
              "    background-color: var(--hover-bg-color);\n",
              "    box-shadow: 0 1px 2px rgba(60, 64, 67, 0.3), 0 1px 3px 1px rgba(60, 64, 67, 0.15);\n",
              "    fill: var(--button-hover-fill-color);\n",
              "  }\n",
              "\n",
              "  .colab-df-quickchart-complete:disabled,\n",
              "  .colab-df-quickchart-complete:disabled:hover {\n",
              "    background-color: var(--disabled-bg-color);\n",
              "    fill: var(--disabled-fill-color);\n",
              "    box-shadow: none;\n",
              "  }\n",
              "\n",
              "  .colab-df-spinner {\n",
              "    border: 2px solid var(--fill-color);\n",
              "    border-color: transparent;\n",
              "    border-bottom-color: var(--fill-color);\n",
              "    animation:\n",
              "      spin 1s steps(1) infinite;\n",
              "  }\n",
              "\n",
              "  @keyframes spin {\n",
              "    0% {\n",
              "      border-color: transparent;\n",
              "      border-bottom-color: var(--fill-color);\n",
              "      border-left-color: var(--fill-color);\n",
              "    }\n",
              "    20% {\n",
              "      border-color: transparent;\n",
              "      border-left-color: var(--fill-color);\n",
              "      border-top-color: var(--fill-color);\n",
              "    }\n",
              "    30% {\n",
              "      border-color: transparent;\n",
              "      border-left-color: var(--fill-color);\n",
              "      border-top-color: var(--fill-color);\n",
              "      border-right-color: var(--fill-color);\n",
              "    }\n",
              "    40% {\n",
              "      border-color: transparent;\n",
              "      border-right-color: var(--fill-color);\n",
              "      border-top-color: var(--fill-color);\n",
              "    }\n",
              "    60% {\n",
              "      border-color: transparent;\n",
              "      border-right-color: var(--fill-color);\n",
              "    }\n",
              "    80% {\n",
              "      border-color: transparent;\n",
              "      border-right-color: var(--fill-color);\n",
              "      border-bottom-color: var(--fill-color);\n",
              "    }\n",
              "    90% {\n",
              "      border-color: transparent;\n",
              "      border-bottom-color: var(--fill-color);\n",
              "    }\n",
              "  }\n",
              "</style>\n",
              "\n",
              "  <script>\n",
              "    async function quickchart(key) {\n",
              "      const quickchartButtonEl =\n",
              "        document.querySelector('#' + key + ' button');\n",
              "      quickchartButtonEl.disabled = true;  // To prevent multiple clicks.\n",
              "      quickchartButtonEl.classList.add('colab-df-spinner');\n",
              "      try {\n",
              "        const charts = await google.colab.kernel.invokeFunction(\n",
              "            'suggestCharts', [key], {});\n",
              "      } catch (error) {\n",
              "        console.error('Error during call to suggestCharts:', error);\n",
              "      }\n",
              "      quickchartButtonEl.classList.remove('colab-df-spinner');\n",
              "      quickchartButtonEl.classList.add('colab-df-quickchart-complete');\n",
              "    }\n",
              "    (() => {\n",
              "      let quickchartButtonEl =\n",
              "        document.querySelector('#df-478ef706-53f1-4c2e-810e-684f7a548695 button');\n",
              "      quickchartButtonEl.style.display =\n",
              "        google.colab.kernel.accessAllowed ? 'block' : 'none';\n",
              "    })();\n",
              "  </script>\n",
              "</div>\n",
              "    </div>\n",
              "  </div>\n"
            ]
          },
          "metadata": {},
          "execution_count": 5
        }
      ]
    },
    {
      "cell_type": "code",
      "source": [
        "text = data_baru['Comment'].values\n",
        "label = data_baru[['anger','fear','joy']].values"
      ],
      "metadata": {
        "id": "cV5WIVjh05_N"
      },
      "execution_count": 6,
      "outputs": []
    },
    {
      "cell_type": "code",
      "source": [
        "text"
      ],
      "metadata": {
        "colab": {
          "base_uri": "https://localhost:8080/"
        },
        "id": "s5qADLgZ1EVF",
        "outputId": "c77c4fd0-bd90-4331-fdd3-b823327a7365"
      },
      "execution_count": 7,
      "outputs": [
        {
          "output_type": "execute_result",
          "data": {
            "text/plain": [
              "array(['i seriously hate one subject to death but now i feel reluctant to drop it',\n",
              "       'im so full of life i feel appalled',\n",
              "       'i sit here to write i start to dig out my feelings and i think that i am afraid to accept the possibility that he might not make it',\n",
              "       ...,\n",
              "       'i were to ever get married i d have everything ready to offer to him because i ve got it together and when i do go out to clubs even the perfect good looking guys feel intimated after talking to me about my clever self',\n",
              "       'i feel reluctant in applying there because i want to be able to find a company where i know at least one person',\n",
              "       'i just wanted to apologize to you because i feel like a heartless bitch'],\n",
              "      dtype=object)"
            ]
          },
          "metadata": {},
          "execution_count": 7
        }
      ]
    },
    {
      "cell_type": "code",
      "source": [
        "label"
      ],
      "metadata": {
        "colab": {
          "base_uri": "https://localhost:8080/"
        },
        "id": "fOhN4ubJ1FeZ",
        "outputId": "488fbd21-aee3-4711-cdc1-41fc5484ac6d"
      },
      "execution_count": 8,
      "outputs": [
        {
          "output_type": "execute_result",
          "data": {
            "text/plain": [
              "array([[0, 1, 0],\n",
              "       [1, 0, 0],\n",
              "       [0, 1, 0],\n",
              "       ...,\n",
              "       [0, 0, 1],\n",
              "       [0, 1, 0],\n",
              "       [1, 0, 0]], dtype=uint8)"
            ]
          },
          "metadata": {},
          "execution_count": 8
        }
      ]
    },
    {
      "cell_type": "markdown",
      "source": [
        "# Split Data"
      ],
      "metadata": {
        "id": "PryNeNn5MOdK"
      }
    },
    {
      "cell_type": "code",
      "source": [
        "from sklearn.model_selection import train_test_split\n",
        "text_latih, text_test, label_latih, label_test = train_test_split(text, label, test_size=0.2)"
      ],
      "metadata": {
        "id": "2m56B7of1HET"
      },
      "execution_count": 9,
      "outputs": []
    },
    {
      "cell_type": "markdown",
      "source": [
        "# Tokenization"
      ],
      "metadata": {
        "id": "cU6DV2ubMUpb"
      }
    },
    {
      "cell_type": "code",
      "source": [
        "from tensorflow.keras.preprocessing.text import Tokenizer\n",
        "from tensorflow.keras.preprocessing.sequence import pad_sequences\n",
        "\n",
        "tokenizer = Tokenizer(num_words=1000, oov_token='x')\n",
        "tokenizer.fit_on_texts(text_latih)\n",
        "tokenizer.fit_on_texts(text_test)\n",
        "\n",
        "sekuens_latih = tokenizer.texts_to_sequences(text_latih)\n",
        "sekuens_test = tokenizer.texts_to_sequences(text_test)\n",
        "\n",
        "pad_train=pad_sequences(sekuens_latih,\n",
        "padding='post',\n",
        "maxlen=50,\n",
        "truncating='post')\n",
        "\n",
        "pad_test=pad_sequences(sekuens_test,\n",
        "padding='post',\n",
        "maxlen=50,\n",
        "truncating='post')\n",
        "# pad_train = pad_sequences(sekuens_latih, maxlen=100)\n",
        "# pad_test = pad_sequences(sekuens_test,  maxlen=100)"
      ],
      "metadata": {
        "id": "_YSVdhg61Nka"
      },
      "execution_count": 10,
      "outputs": []
    },
    {
      "cell_type": "markdown",
      "source": [
        "# Membuat Model"
      ],
      "metadata": {
        "id": "rk3eHPG0MamA"
      }
    },
    {
      "cell_type": "code",
      "source": [
        "import tensorflow as tf\n",
        "model = tf.keras.Sequential([\n",
        "    tf.keras.layers.Embedding(input_dim=20000,output_dim=16),\n",
        "    tf.keras.layers.Dropout(0.2),\n",
        "    tf.keras.layers.LSTM(64),\n",
        "    tf.keras.layers.Dense(64,activation='relu'),\n",
        "    tf.keras.layers.Dense(128,activation='relu'),\n",
        "    tf.keras.layers.Dense(3, activation='softmax')\n",
        "])\n",
        "model.compile(loss='categorical_crossentropy',optimizer='adam',metrics=['accuracy'])"
      ],
      "metadata": {
        "id": "Ub3Dk7xk35Hk"
      },
      "execution_count": 11,
      "outputs": []
    },
    {
      "cell_type": "markdown",
      "source": [
        "# Callbacks"
      ],
      "metadata": {
        "id": "ldsFtwLUMeXC"
      }
    },
    {
      "cell_type": "code",
      "source": [
        "reduce_lr = tf.keras.callbacks.ReduceLROnPlateau(\n",
        "    monitor='val_loss',\n",
        "    factor=0.2,\n",
        "    patience=5,\n",
        "    min_lr=1.5e-5\n",
        ")\n",
        "\n",
        "early_stop = tf.keras.callbacks.EarlyStopping(\n",
        "    monitor=\"val_loss\",\n",
        "    min_delta=0,\n",
        "    patience=12,\n",
        "    verbose=0,\n",
        "    mode=\"auto\",\n",
        "    baseline=None,\n",
        "    restore_best_weights=True)"
      ],
      "metadata": {
        "id": "tFuj8eCY69Rk"
      },
      "execution_count": 12,
      "outputs": []
    },
    {
      "cell_type": "markdown",
      "source": [
        "# Menjalankan Model"
      ],
      "metadata": {
        "id": "nuNwNpDyMlAB"
      }
    },
    {
      "cell_type": "code",
      "source": [
        "num_epochs = 100\n",
        "history = model.fit(pad_train, label_latih, epochs=num_epochs, batch_size=32,callbacks=[reduce_lr, early_stop],\n",
        "                    validation_data=(pad_test, label_test),verbose=1)"
      ],
      "metadata": {
        "colab": {
          "base_uri": "https://localhost:8080/"
        },
        "id": "W6emirOv1cfa",
        "outputId": "3f6f33e3-6583-4590-aff0-98d770752275"
      },
      "execution_count": 14,
      "outputs": [
        {
          "output_type": "stream",
          "name": "stdout",
          "text": [
            "Epoch 1/100\n",
            "149/149 [==============================] - 12s 53ms/step - loss: 1.0990 - accuracy: 0.3407 - val_loss: 1.0990 - val_accuracy: 0.3316 - lr: 0.0010\n",
            "Epoch 2/100\n",
            "149/149 [==============================] - 5s 33ms/step - loss: 1.0988 - accuracy: 0.3333 - val_loss: 1.0997 - val_accuracy: 0.3190 - lr: 0.0010\n",
            "Epoch 3/100\n",
            "149/149 [==============================] - 7s 44ms/step - loss: 1.0986 - accuracy: 0.3285 - val_loss: 1.0995 - val_accuracy: 0.3316 - lr: 0.0010\n",
            "Epoch 4/100\n",
            "149/149 [==============================] - 7s 44ms/step - loss: 1.0987 - accuracy: 0.3340 - val_loss: 1.0995 - val_accuracy: 0.3316 - lr: 0.0010\n",
            "Epoch 5/100\n",
            "149/149 [==============================] - 5s 33ms/step - loss: 1.0985 - accuracy: 0.3342 - val_loss: 1.0999 - val_accuracy: 0.3224 - lr: 0.0010\n",
            "Epoch 6/100\n",
            "149/149 [==============================] - 7s 44ms/step - loss: 1.0986 - accuracy: 0.3354 - val_loss: 1.0997 - val_accuracy: 0.3325 - lr: 0.0010\n",
            "Epoch 7/100\n",
            "149/149 [==============================] - 7s 45ms/step - loss: 1.0971 - accuracy: 0.3455 - val_loss: 1.1015 - val_accuracy: 0.3451 - lr: 2.0000e-04\n",
            "Epoch 8/100\n",
            "149/149 [==============================] - 5s 33ms/step - loss: 1.0470 - accuracy: 0.4272 - val_loss: 0.9250 - val_accuracy: 0.5160 - lr: 2.0000e-04\n",
            "Epoch 9/100\n",
            "149/149 [==============================] - 7s 47ms/step - loss: 0.7632 - accuracy: 0.5898 - val_loss: 0.7666 - val_accuracy: 0.6465 - lr: 2.0000e-04\n",
            "Epoch 10/100\n",
            "149/149 [==============================] - 7s 46ms/step - loss: 0.6267 - accuracy: 0.6934 - val_loss: 0.6675 - val_accuracy: 0.6961 - lr: 2.0000e-04\n",
            "Epoch 11/100\n",
            "149/149 [==============================] - 5s 34ms/step - loss: 0.5526 - accuracy: 0.7503 - val_loss: 0.6485 - val_accuracy: 0.7348 - lr: 2.0000e-04\n",
            "Epoch 12/100\n",
            "149/149 [==============================] - 8s 51ms/step - loss: 0.4711 - accuracy: 0.8082 - val_loss: 0.5051 - val_accuracy: 0.8106 - lr: 2.0000e-04\n",
            "Epoch 13/100\n",
            "149/149 [==============================] - 5s 35ms/step - loss: 0.4079 - accuracy: 0.8457 - val_loss: 0.4505 - val_accuracy: 0.8325 - lr: 2.0000e-04\n",
            "Epoch 14/100\n",
            "149/149 [==============================] - 5s 33ms/step - loss: 0.3520 - accuracy: 0.8730 - val_loss: 0.4202 - val_accuracy: 0.8443 - lr: 2.0000e-04\n",
            "Epoch 15/100\n",
            "149/149 [==============================] - 8s 51ms/step - loss: 0.3478 - accuracy: 0.8753 - val_loss: 0.3882 - val_accuracy: 0.8721 - lr: 2.0000e-04\n",
            "Epoch 16/100\n",
            "149/149 [==============================] - 5s 36ms/step - loss: 0.3133 - accuracy: 0.8951 - val_loss: 0.3803 - val_accuracy: 0.8746 - lr: 2.0000e-04\n",
            "Epoch 17/100\n",
            "149/149 [==============================] - 5s 33ms/step - loss: 0.2998 - accuracy: 0.8993 - val_loss: 0.3714 - val_accuracy: 0.8737 - lr: 2.0000e-04\n",
            "Epoch 18/100\n",
            "149/149 [==============================] - 8s 52ms/step - loss: 0.2857 - accuracy: 0.9040 - val_loss: 0.3637 - val_accuracy: 0.8813 - lr: 2.0000e-04\n",
            "Epoch 19/100\n",
            "149/149 [==============================] - 5s 35ms/step - loss: 0.2589 - accuracy: 0.9172 - val_loss: 0.3969 - val_accuracy: 0.8729 - lr: 2.0000e-04\n",
            "Epoch 20/100\n",
            "149/149 [==============================] - 5s 33ms/step - loss: 0.2466 - accuracy: 0.9221 - val_loss: 0.3370 - val_accuracy: 0.8939 - lr: 2.0000e-04\n",
            "Epoch 21/100\n",
            "149/149 [==============================] - 8s 53ms/step - loss: 0.2527 - accuracy: 0.9217 - val_loss: 0.3283 - val_accuracy: 0.8998 - lr: 2.0000e-04\n",
            "Epoch 22/100\n",
            "149/149 [==============================] - 5s 34ms/step - loss: 0.2417 - accuracy: 0.9261 - val_loss: 0.3200 - val_accuracy: 0.9007 - lr: 2.0000e-04\n",
            "Epoch 23/100\n",
            "149/149 [==============================] - 6s 41ms/step - loss: 0.2421 - accuracy: 0.9250 - val_loss: 0.3211 - val_accuracy: 0.9015 - lr: 2.0000e-04\n",
            "Epoch 24/100\n",
            "149/149 [==============================] - 10s 64ms/step - loss: 0.2218 - accuracy: 0.9316 - val_loss: 0.3252 - val_accuracy: 0.9040 - lr: 2.0000e-04\n",
            "Epoch 25/100\n",
            "149/149 [==============================] - 6s 39ms/step - loss: 0.2281 - accuracy: 0.9280 - val_loss: 0.3393 - val_accuracy: 0.8990 - lr: 2.0000e-04\n",
            "Epoch 26/100\n",
            "149/149 [==============================] - 5s 34ms/step - loss: 0.2120 - accuracy: 0.9356 - val_loss: 0.3304 - val_accuracy: 0.9040 - lr: 2.0000e-04\n",
            "Epoch 27/100\n",
            "149/149 [==============================] - 7s 48ms/step - loss: 0.2157 - accuracy: 0.9339 - val_loss: 0.3049 - val_accuracy: 0.9091 - lr: 2.0000e-04\n",
            "Epoch 28/100\n",
            "149/149 [==============================] - 6s 39ms/step - loss: 0.2009 - accuracy: 0.9379 - val_loss: 0.3017 - val_accuracy: 0.9099 - lr: 2.0000e-04\n",
            "Epoch 29/100\n",
            "149/149 [==============================] - 5s 34ms/step - loss: 0.1873 - accuracy: 0.9438 - val_loss: 0.2842 - val_accuracy: 0.9192 - lr: 2.0000e-04\n",
            "Epoch 30/100\n",
            "149/149 [==============================] - 7s 50ms/step - loss: 0.1918 - accuracy: 0.9431 - val_loss: 0.2847 - val_accuracy: 0.9184 - lr: 2.0000e-04\n",
            "Epoch 31/100\n",
            "149/149 [==============================] - 6s 37ms/step - loss: 0.1897 - accuracy: 0.9427 - val_loss: 0.3113 - val_accuracy: 0.9091 - lr: 2.0000e-04\n",
            "Epoch 32/100\n",
            "149/149 [==============================] - 5s 34ms/step - loss: 0.1839 - accuracy: 0.9440 - val_loss: 0.3176 - val_accuracy: 0.9032 - lr: 2.0000e-04\n",
            "Epoch 33/100\n",
            "149/149 [==============================] - 8s 51ms/step - loss: 0.1747 - accuracy: 0.9450 - val_loss: 0.2914 - val_accuracy: 0.9116 - lr: 2.0000e-04\n",
            "Epoch 34/100\n",
            "149/149 [==============================] - 5s 36ms/step - loss: 0.1816 - accuracy: 0.9429 - val_loss: 0.3174 - val_accuracy: 0.9032 - lr: 2.0000e-04\n",
            "Epoch 35/100\n",
            "149/149 [==============================] - 5s 33ms/step - loss: 0.1624 - accuracy: 0.9514 - val_loss: 0.2967 - val_accuracy: 0.9116 - lr: 4.0000e-05\n",
            "Epoch 36/100\n",
            "149/149 [==============================] - 8s 53ms/step - loss: 0.1636 - accuracy: 0.9488 - val_loss: 0.2973 - val_accuracy: 0.9133 - lr: 4.0000e-05\n",
            "Epoch 37/100\n",
            "149/149 [==============================] - 5s 35ms/step - loss: 0.1616 - accuracy: 0.9501 - val_loss: 0.3090 - val_accuracy: 0.9116 - lr: 4.0000e-05\n",
            "Epoch 38/100\n",
            "149/149 [==============================] - 5s 34ms/step - loss: 0.1566 - accuracy: 0.9507 - val_loss: 0.2920 - val_accuracy: 0.9125 - lr: 4.0000e-05\n",
            "Epoch 39/100\n",
            "149/149 [==============================] - 8s 54ms/step - loss: 0.1499 - accuracy: 0.9509 - val_loss: 0.3067 - val_accuracy: 0.9099 - lr: 4.0000e-05\n",
            "Epoch 40/100\n",
            "149/149 [==============================] - 5s 36ms/step - loss: 0.1504 - accuracy: 0.9524 - val_loss: 0.3072 - val_accuracy: 0.9091 - lr: 1.5000e-05\n",
            "Epoch 41/100\n",
            "149/149 [==============================] - 5s 34ms/step - loss: 0.1501 - accuracy: 0.9528 - val_loss: 0.3026 - val_accuracy: 0.9116 - lr: 1.5000e-05\n"
          ]
        }
      ]
    },
    {
      "cell_type": "code",
      "source": [
        "loss, accuracy = model.evaluate(pad_test, label_test)\n",
        "print(f\"Loss: {loss}\")\n",
        "print(f\"Accuracy: {accuracy}\")"
      ],
      "metadata": {
        "colab": {
          "base_uri": "https://localhost:8080/"
        },
        "id": "U6Q7H0BqMwhJ",
        "outputId": "a41d8d15-221f-488d-90a6-cb600d1c1d08"
      },
      "execution_count": 17,
      "outputs": [
        {
          "output_type": "stream",
          "name": "stdout",
          "text": [
            "38/38 [==============================] - 0s 9ms/step - loss: 0.2842 - accuracy: 0.9192\n",
            "Loss: 0.28417056798934937\n",
            "Accuracy: 0.9191918969154358\n"
          ]
        }
      ]
    },
    {
      "cell_type": "markdown",
      "source": [
        "# Visualisasi Model"
      ],
      "metadata": {
        "id": "SuRCajvgMovQ"
      }
    },
    {
      "cell_type": "code",
      "source": [
        "import matplotlib.pyplot as plt\n",
        "\n",
        "acc = history.history['accuracy']\n",
        "val_acc = history.history['val_accuracy']\n",
        "\n",
        "loss = history.history['loss']\n",
        "val_loss = history.history['val_loss']\n",
        "\n",
        "epochs_range = range(41)\n",
        "\n",
        "plt.figure(figsize=(14, 5))\n",
        "plt.subplot(1, 2, 1)\n",
        "plt.plot(epochs_range, acc, label='Training Accuracy')\n",
        "plt.plot(epochs_range, val_acc, label='Validation Accuracy')\n",
        "plt.legend(loc='lower right')\n",
        "plt.title('Training and Validation Accuracy')\n",
        "\n",
        "plt.subplot(1, 2, 2)\n",
        "plt.plot(epochs_range, loss, label='Training Loss')\n",
        "plt.plot(epochs_range, val_loss, label='Validation Loss')\n",
        "plt.legend(loc='upper right')\n",
        "plt.title('Training and Validation Loss')\n",
        "plt.show()"
      ],
      "metadata": {
        "colab": {
          "base_uri": "https://localhost:8080/",
          "height": 468
        },
        "id": "LqsbIqqr1eqe",
        "outputId": "9fb978db-31fb-4588-f77b-3d48433db08b"
      },
      "execution_count": 16,
      "outputs": [
        {
          "output_type": "display_data",
          "data": {
            "text/plain": [
              "<Figure size 1400x500 with 2 Axes>"
            ],
            "image/png": "[encoded data removed]"
          },
          "metadata": {}
        }
      ]
    }
  ]
}